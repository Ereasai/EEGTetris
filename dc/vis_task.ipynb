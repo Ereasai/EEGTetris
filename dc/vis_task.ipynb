{
 "cells": [
  {
   "cell_type": "code",
   "execution_count": 1,
   "metadata": {},
   "outputs": [],
   "source": [
    "import numpy as np\n",
    "import matplotlib.pyplot as plt\n",
    "import mne\n",
    "\n",
    "from utils import get_marker_name\n",
    "from scipy import signal"
   ]
  },
  {
   "cell_type": "code",
   "execution_count": 2,
   "metadata": {},
   "outputs": [],
   "source": [
    "# Loading EEG data\n",
    "\n",
    "eeg     = np.loadtxt(r'C:\\Users\\emmac\\OneDrive\\Documents\\GitHub\\EEGTetris\\dc\\DSI-7_0210\\devin_eeg.csv', delimiter=',', skiprows=1)\n",
    "markers = np.loadtxt(r'C:\\Users\\emmac\\OneDrive\\Documents\\GitHub\\EEGTetris\\dc\\DSI-7_0210\\devin_markers.csv', delimiter=',', skiprows=1)\n",
    "\n",
    "Fs      = 300    # sampling rate of the DSI-7"
   ]
  },
  {
   "cell_type": "code",
   "execution_count": null,
   "metadata": {},
   "outputs": [],
   "source": [
    "# Corrects for DC offset in EEG data\n",
    "\n",
    "def nodc(eeg, Fs):                                  # Read as 'no DC'\n",
    "    \"\"\" Corrects for DC offset in EEG data\n",
    "\n",
    "    Parameters\n",
    "    ----------\n",
    "    eeg: np.arr\n",
    "        EEG data where the no. of rows = # of sampled timepoints and data channels are across column\n",
    "        1st channel is time (s)\n",
    "\n",
    "    Fs: int\n",
    "        sampling rate\n",
    "\n",
    "    Returns\n",
    "    -------\n",
    "    eeg_nodc: np.arr\n",
    "        og. EEG data arr corrected for DC offset across channels\n",
    "    \"\"\"\n",
    "\n",
    "    fft      = np.fft.fft(eeg[:, 1:], axis=0)       # Need to exclude 1st channel so you don't 'DC un-offset' time\n",
    "    frq      = np.fft.fftfreq(eeg.shape[0], 1/Fs)\n",
    "\n",
    "    dc_idx   = np.abs(frq).argmin()   \n",
    "    fft[dc_idx] = 0  \n",
    "\n",
    "    ifft     = np.fft.ifft(fft, axis=0)\n",
    "    eeg_nodc = np.hstack((eeg[:, 0].reshape(-1, 1), ifft))\n",
    "\n",
    "    return eeg_nodc"
   ]
  },
  {
   "cell_type": "code",
   "execution_count": null,
   "metadata": {},
   "outputs": [],
   "source": [
    "# MNE documentation (below)\n",
    "# https://mne.tools/dev/generated/mne.filter.filter_data.html\n",
    "\n",
    "# var_name = mne.filter.filter_data(t1_ndc.T[1:, :], sfreq=Fs, l_freq=8, h_freq=13)"
   ]
  },
  {
   "cell_type": "code",
   "execution_count": 3,
   "metadata": {},
   "outputs": [],
   "source": [
    "# Epochs EEG data\n",
    "\n",
    "def eeg_chop(eeg, markers):\n",
    "    \"\"\" Epochs EEG data collected using the DSI-7 according to original (mislabeled) paradigm\n",
    "    (ie. data collected on 02/10)\n",
    "\n",
    "    Parameters\n",
    "    ----------\n",
    "    eeg: np.arr (n, 9)\n",
    "        EEG data where n = # of timepoints and 9 channels of recording\n",
    "        1st channel is time (s) and the remaining 8 are (in order): F3, Fz, F4, C3, C4, P3, P4, Gnd\n",
    "            Gnd will read as column of 0s, can ignore\n",
    "\n",
    "    markers: np.arr (m, 2) \n",
    "        m/2 = no. of trials\n",
    "        Consists of corresponding marker #. Markers mark start+end of MI prompt presentation\n",
    "        Marker encoding can be found under utils.py\n",
    "        Functions (get_marker_name) found in utils.py can also decode marker # as needed\n",
    "\n",
    "    Returns\n",
    "    -------\n",
    "    labels: np.arr (m/2, 1)\n",
    "        processed markers arr to include only 'MI_TYPE' markers for each trial        \n",
    "\n",
    "    baseline: np.arr (m/2, Fs * 2, 9)\n",
    "        'baseline' epoch for each trial; consists of 2s (600 datapoints) before MI prompt\n",
    "        9 channels like eeg arr\n",
    "\n",
    "    motor_im: np.arr (m/2, Fs * 4, 9)\n",
    "        active motor imagining epoch for each trial; consists of 4s (1200 datapoints) after MI prompt ends\n",
    "        9 channels like eeg arr\n",
    "    \"\"\"\n",
    "    eeg_f = eeg.copy()\n",
    "    eeg_f[:, 0] = ['{:.3f}'.format(value) for value in eeg[:, 0]]\n",
    "    \n",
    "    marker_strt = markers[::2, :]\n",
    "    marker_stop = markers[1::2, :]\n",
    "\n",
    "    labels   = np.empty((marker_strt.shape[0], 1))\n",
    "    baseline = np.empty((marker_strt.shape[0], 300 * 2, 9))\n",
    "    motor_im = np.empty((marker_strt.shape[0], 300 * 4, 9))\n",
    "    \n",
    "    for i in range(marker_strt.shape[0]):\n",
    "        end_idx = np.where(eeg[:, 0] <= marker_strt[0, 0])[0][-1]\n",
    "        labels[i] = marker_strt[i, 1]\n",
    "        baseline[i] = eeg[end_idx - 300 * 2:end_idx]\n",
    "\n",
    "    for i in range(marker_stop.shape[0]):\n",
    "        start_idx = np.where(eeg[:, 0] >= marker_stop[i, 0])[0][0]\n",
    "        motor_im[i] = eeg[start_idx:start_idx + 300 * 4]\n",
    "\n",
    "    return labels, baseline, motor_im"
   ]
  },
  {
   "cell_type": "code",
   "execution_count": null,
   "metadata": {},
   "outputs": [],
   "source": []
  }
 ],
 "metadata": {
  "kernelspec": {
   "display_name": "myenv",
   "language": "python",
   "name": "myenv"
  },
  "language_info": {
   "codemirror_mode": {
    "name": "ipython",
    "version": 3
   },
   "file_extension": ".py",
   "mimetype": "text/x-python",
   "name": "python",
   "nbconvert_exporter": "python",
   "pygments_lexer": "ipython3",
   "version": "3.11.5"
  }
 },
 "nbformat": 4,
 "nbformat_minor": 2
}
