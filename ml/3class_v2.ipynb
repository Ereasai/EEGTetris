{
 "cells": [
  {
   "cell_type": "code",
   "execution_count": 4,
   "metadata": {},
   "outputs": [],
   "source": [
    "# installing dependencies\n",
    "import mne\n",
    "import matplotlib.pyplot as plt"
   ]
  },
  {
   "cell_type": "code",
   "execution_count": 5,
   "metadata": {},
   "outputs": [
    {
     "name": "stdout",
     "output_type": "stream",
     "text": [
      "Extracting EDF parameters from c:\\Users\\aliz0\\OneDrive\\Documents\\GitHub\\EEGTetris\\ml\\BCICIV_2a_gdf\\A01T.gdf...\n",
      "GDF file detected\n",
      "Setting channel info structure...\n",
      "Could not determine channel type of the following channels, they will be set as EEG:\n",
      "EEG-Fz, EEG, EEG, EEG, EEG, EEG, EEG, EEG-C3, EEG, EEG-Cz, EEG, EEG-C4, EEG, EEG, EEG, EEG, EEG, EEG, EEG, EEG-Pz, EEG, EEG, EOG-left, EOG-central, EOG-right\n",
      "Creating raw.info structure...\n"
     ]
    },
    {
     "name": "stderr",
     "output_type": "stream",
     "text": [
      "c:\\Users\\aliz0\\anaconda3\\Lib\\contextlib.py:144: RuntimeWarning: Channel names are not unique, found duplicates for: {'EEG'}. Applying running numbers for duplicates.\n",
      "  next(self.gen)\n"
     ]
    },
    {
     "name": "stdout",
     "output_type": "stream",
     "text": [
      "Reading 0 ... 672527  =      0.000 ...  2690.108 secs...\n"
     ]
    }
   ],
   "source": [
    "'''\n",
    "Obtaining raw data from the BCICIV data\n",
    "Data consists of mainly right and left hand motions\n",
    "but also constitutes moments of no motion (baseline)\n",
    "'''\n",
    "raw = mne.io.read_raw_gdf('BCICIV_2a_gdf\\A01T.gdf', preload=True)"
   ]
  },
  {
   "cell_type": "code",
   "execution_count": 6,
   "metadata": {},
   "outputs": [],
   "source": [
    "# Obtaining all channel names \n",
    "channel_names = raw.info['ch_names']\n",
    "#print(channel_names)\n",
    "\n",
    "#Obtaining a subset of those channels\n",
    "channels_to_keep = ['EEG-1', 'EEG-3', 'EEG-C3', 'EEG-C4', 'EEG-14', 'EEG-Pz', 'EEG-15']     # F3, F4, C3, C4, Pz, P3, P4\n",
    "\n",
    "raw_subset = raw.copy().pick(channels_to_keep)"
   ]
  },
  {
   "cell_type": "code",
   "execution_count": 7,
   "metadata": {},
   "outputs": [
    {
     "data": {
      "text/plain": [
       "(numpy.ndarray, (7, 672528))"
      ]
     },
     "execution_count": 7,
     "metadata": {},
     "output_type": "execute_result"
    }
   ],
   "source": [
    "'''\n",
    "order_to_class_id = {\n",
    "    '1' : 'Idling Eyes Open',\n",
    "    '2' : 'Idling Eyes Closed',\n",
    "    '3' : 'Trial Start',\n",
    "    '4' : 'Cue Left',\n",
    "    '5' : 'Cue Right',\n",
    "    '6' : 'Cue Foot',\n",
    "    '7' : 'Cue Tongue', \n",
    "    '8' : 'Cue Unknown',\n",
    "    '9' : 'Rejected Trial',\n",
    "    '10': 'Eye Movements',\n",
    "    '11': 'Next Run'\n",
    "}\n",
    "\n",
    "og_event_id = {\n",
    "    '276'  : 'Idling Eyes Open',\n",
    "    '277'  : 'Idling Eyes Closed',\n",
    "    '768'  : 'Trial Start',\n",
    "    '769'  : 'Cue Left',\n",
    "    '770'  : 'Cue Right',\n",
    "    '771'  : 'Cue Foot',\n",
    "    '772'  : 'Cue Tongue', \n",
    "    '783'  : 'Cue Unknown',\n",
    "    '1023' : 'Rejected Trial',\n",
    "    '1072' : 'Eye Movements',\n",
    "    '32766': 'Next Run'\n",
    "}\n",
    "'''\n",
    "\n",
    "\n",
    "ordered_event_id = {\n",
    "    '276'  : 1,\n",
    "    '277'  : 2,\n",
    "    '768'  : 3,\n",
    "    '769'  : 4,\n",
    "    '770'  : 5,\n",
    "    '771'  : 6,\n",
    "    '772'  : 7, \n",
    "    #'783'  : 8,\n",
    "    '1023' : 9,\n",
    "    '1072' : 10,\n",
    "    '32766': 11\n",
    "}\n",
    "\n",
    "# Check for data shape\n",
    "data = raw_subset.get_data()\n",
    "type(data), data.shape"
   ]
  },
  {
   "cell_type": "code",
   "execution_count": 12,
   "metadata": {},
   "outputs": [
    {
     "name": "stdout",
     "output_type": "stream",
     "text": [
      "Filtering raw data in 1 contiguous segment\n",
      "Setting up band-pass filter from 8 - 30 Hz\n",
      "\n",
      "FIR filter parameters\n",
      "---------------------\n",
      "Designing a one-pass, zero-phase, non-causal bandpass filter:\n",
      "- Windowed time-domain design (firwin) method\n",
      "- Hamming window with 0.0194 passband ripple and 53 dB stopband attenuation\n",
      "- Lower passband edge: 8.00\n",
      "- Lower transition bandwidth: 2.00 Hz (-6 dB cutoff frequency: 7.00 Hz)\n",
      "- Upper passband edge: 30.00 Hz\n",
      "- Upper transition bandwidth: 7.50 Hz (-6 dB cutoff frequency: 33.75 Hz)\n",
      "- Filter length: 413 samples (1.652 s)\n",
      "\n"
     ]
    },
    {
     "name": "stderr",
     "output_type": "stream",
     "text": [
      "[Parallel(n_jobs=1)]: Using backend SequentialBackend with 1 concurrent workers.\n",
      "[Parallel(n_jobs=1)]: Done   1 out of   1 | elapsed:    0.0s remaining:    0.0s\n",
      "[Parallel(n_jobs=1)]: Done   2 out of   2 | elapsed:    0.0s remaining:    0.0s\n",
      "[Parallel(n_jobs=1)]: Done   3 out of   3 | elapsed:    0.0s remaining:    0.0s\n",
      "[Parallel(n_jobs=1)]: Done   4 out of   4 | elapsed:    0.0s remaining:    0.0s\n",
      "[Parallel(n_jobs=1)]: Done   7 out of   7 | elapsed:    0.0s finished\n"
     ]
    },
    {
     "data": {
      "text/plain": [
       "(numpy.ndarray, (7, 672528))"
      ]
     },
     "execution_count": 12,
     "metadata": {},
     "output_type": "execute_result"
    }
   ],
   "source": [
    "# filtering done here; bandpassing between 8 and 30 Hz\n",
    "raw_subset_8_30 = raw_subset.copy().filter(8, 30)\n",
    "\n",
    "# Sanity check\n",
    "type(raw_subset_8_30.get_data()),raw_subset_8_30.get_data().shape"
   ]
  },
  {
   "cell_type": "code",
   "execution_count": null,
   "metadata": {},
   "outputs": [],
   "source": [
    "# plotting the subset across all necessary channels\n",
    "raw_subset_8_30.plot();"
   ]
  },
  {
   "cell_type": "code",
   "execution_count": null,
   "metadata": {},
   "outputs": [],
   "source": []
  }
 ],
 "metadata": {
  "kernelspec": {
   "display_name": "base",
   "language": "python",
   "name": "python3"
  },
  "language_info": {
   "codemirror_mode": {
    "name": "ipython",
    "version": 3
   },
   "file_extension": ".py",
   "mimetype": "text/x-python",
   "name": "python",
   "nbconvert_exporter": "python",
   "pygments_lexer": "ipython3",
   "version": "3.11.8"
  }
 },
 "nbformat": 4,
 "nbformat_minor": 2
}
