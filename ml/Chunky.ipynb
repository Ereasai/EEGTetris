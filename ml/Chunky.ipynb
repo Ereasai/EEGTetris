{
 "cells": [
  {
   "cell_type": "code",
   "execution_count": 4,
   "metadata": {},
   "outputs": [],
   "source": [
    "# installing dependencies\n",
    "import mne\n",
    "import matplotlib.pyplot as plt \n",
    "import pandas as pd\n",
    "import numpy as np"
   ]
  },
  {
   "cell_type": "code",
   "execution_count": 5,
   "metadata": {},
   "outputs": [],
   "source": [
    "def baseline_chunking(event_idx, data):\n",
    "    baseline_data = []\n",
    "    for idx in event_idx:\n",
    "        channel_data = []\n",
    "        for channel in data:\n",
    "            channel_data.append(channel[idx-500:idx])\n",
    "        baseline_data.append(channel_data)\n",
    "    return baseline_data"
   ]
  },
  {
   "cell_type": "code",
   "execution_count": 6,
   "metadata": {},
   "outputs": [],
   "source": [
    "def event_chunking(event_idx,data,offset=250):\n",
    "    event_data = []\n",
    "    for idx in event_idx:\n",
    "        channel_data = []\n",
    "        for channel in data:\n",
    "            channel_data.append(channel[idx+offset:idx+offset+500])\n",
    "        event_data.append(channel_data)\n",
    "    return event_data"
   ]
  },
  {
   "cell_type": "code",
   "execution_count": 7,
   "metadata": {},
   "outputs": [
    {
     "name": "stdout",
     "output_type": "stream",
     "text": [
      "Extracting EDF parameters from c:\\Users\\aliz0\\OneDrive\\Documents\\GitHub\\EEGTetris\\ml\\BCICIV_2a_gdf\\A01T.gdf...\n",
      "GDF file detected\n",
      "Setting channel info structure...\n",
      "Could not determine channel type of the following channels, they will be set as EEG:\n",
      "EEG-Fz, EEG, EEG, EEG, EEG, EEG, EEG, EEG-C3, EEG, EEG-Cz, EEG, EEG-C4, EEG, EEG, EEG, EEG, EEG, EEG, EEG, EEG-Pz, EEG, EEG, EOG-left, EOG-central, EOG-right\n",
      "Creating raw.info structure...\n"
     ]
    },
    {
     "name": "stderr",
     "output_type": "stream",
     "text": [
      "c:\\Users\\aliz0\\anaconda3\\Lib\\contextlib.py:144: RuntimeWarning: Channel names are not unique, found duplicates for: {'EEG'}. Applying running numbers for duplicates.\n",
      "  next(self.gen)\n"
     ]
    },
    {
     "name": "stdout",
     "output_type": "stream",
     "text": [
      "Reading 0 ... 672527  =      0.000 ...  2690.108 secs...\n"
     ]
    }
   ],
   "source": [
    "'''\n",
    "Obtaining raw data from the BCICIV data\n",
    "Data consists of mainly right and left hand motions\n",
    "but also constitutes moments of no motion (baseline)\n",
    "'''\n",
    "raw = mne.io.read_raw_gdf('BCICIV_2a_gdf\\A01T.gdf', preload=True)"
   ]
  },
  {
   "cell_type": "code",
   "execution_count": 8,
   "metadata": {},
   "outputs": [],
   "source": [
    "# Obtaining all channel names \n",
    "channel_names = raw.info['ch_names']\n",
    "#print(channel_names)\n",
    "\n",
    "#Obtaining a subset of those channels\n",
    "channels_to_keep = ['EEG-1', 'EEG-3', 'EEG-C3', 'EEG-C4', 'EEG-14', 'EEG-Pz', 'EEG-15']     # F3, F4, C3, C4, Pz, P3, P4\n",
    "\n",
    "raw_subset = raw.copy().pick(channels_to_keep)"
   ]
  },
  {
   "cell_type": "code",
   "execution_count": 9,
   "metadata": {},
   "outputs": [
    {
     "name": "stdout",
     "output_type": "stream",
     "text": [
      "Used Annotations descriptions: ['1023', '1072', '276', '277', '32766', '768', '769', '770', '771', '772']\n"
     ]
    }
   ],
   "source": [
    "'''\n",
    "order_to_class_id = {\n",
    "    '1' : 'Idling Eyes Open',\n",
    "    '2' : 'Idling Eyes Closed',\n",
    "    '3' : 'Trial Start',\n",
    "    '4' : 'Cue Left',\n",
    "    '5' : 'Cue Right',\n",
    "    '6' : 'Cue Foot',\n",
    "    '7' : 'Cue Tongue', \n",
    "    '8' : 'Cue Unknown',\n",
    "    '9' : 'Rejected Trial',\n",
    "    '10': 'Eye Movements',\n",
    "    '11': 'Next Run'\n",
    "}\n",
    "\n",
    "og_event_id = {\n",
    "    '276'  : 'Idling Eyes Open',\n",
    "    '277'  : 'Idling Eyes Closed',\n",
    "    '768'  : 'Trial Start',\n",
    "    '769'  : 'Cue Left',\n",
    "    '770'  : 'Cue Right',\n",
    "    '771'  : 'Cue Foot',\n",
    "    '772'  : 'Cue Tongue', \n",
    "    '783'  : 'Cue Unknown',\n",
    "    '1023' : 'Rejected Trial',\n",
    "    '1072' : 'Eye Movements',\n",
    "    '32766': 'Next Run'\n",
    "}\n",
    "'''\n",
    "\n",
    "\n",
    "ordered_event_id = {\n",
    "    '276'  : 1,\n",
    "    '277'  : 2,\n",
    "    '768'  : 3,\n",
    "    '769'  : 4,\n",
    "    '770'  : 5,\n",
    "    '771'  : 6,\n",
    "    '772'  : 7, \n",
    "    #'783'  : 8,\n",
    "    '1023' : 9,\n",
    "    '1072' : 10,\n",
    "    '32766': 11\n",
    "}\n",
    "\n",
    "events, event_id = mne.events_from_annotations(raw_subset, event_id = ordered_event_id)\n",
    "# events.shape, events[:10]"
   ]
  },
  {
   "cell_type": "code",
   "execution_count": 10,
   "metadata": {},
   "outputs": [],
   "source": [
    "events_df = pd.DataFrame(events, columns = [\"sample_index\", \"prev_signal\", \"event_code\"])\n",
    "event_idx = events_df[events_df['event_code'] == 4]['sample_index']"
   ]
  },
  {
   "cell_type": "code",
   "execution_count": 13,
   "metadata": {},
   "outputs": [
    {
     "data": {
      "text/plain": [
       "((72, 7, 500), (72, 7, 500))"
      ]
     },
     "execution_count": 13,
     "metadata": {},
     "output_type": "execute_result"
    }
   ],
   "source": [
    "# read data for chunking\n",
    "data = raw_subset.get_data()\n",
    "type(data), data.shape\n",
    "\n",
    "# chunking\n",
    "baseline_data = baseline_chunking(event_idx,data)\n",
    "event_data = event_chunking(event_idx,data)\n",
    "\n",
    "np.array(baseline_data).shape, np.array(event_data).shape"
   ]
  },
  {
   "cell_type": "code",
   "execution_count": null,
   "metadata": {},
   "outputs": [],
   "source": []
  }
 ],
 "metadata": {
  "kernelspec": {
   "display_name": "base",
   "language": "python",
   "name": "python3"
  },
  "language_info": {
   "name": "python",
   "version": "3.11.8"
  }
 },
 "nbformat": 4,
 "nbformat_minor": 2
}
