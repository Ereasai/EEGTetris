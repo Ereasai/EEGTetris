{
 "cells": [
  {
   "cell_type": "markdown",
   "id": "af9293cc-43e7-425b-804f-6a62febd3a54",
   "metadata": {},
   "source": [
    "### Imports"
   ]
  },
  {
   "cell_type": "code",
   "execution_count": 1,
   "id": "ec4492c1-159f-413a-a5f2-2507a0aff5f8",
   "metadata": {
    "tags": []
   },
   "outputs": [],
   "source": [
    "import torch\n",
    "import torch.nn as nn\n",
    "import torch.optim as optim\n",
    "from torch.utils.data import DataLoader\n",
    "from torch.utils.data import sampler\n",
    "\n",
    "import torchvision.datasets as dset\n",
    "import torchvision.transforms as T\n",
    "\n",
    "import numpy as np"
   ]
  },
  {
   "cell_type": "code",
   "execution_count": 2,
   "id": "803c3d82-7151-4ffe-99b0-8505d8132974",
   "metadata": {
    "tags": []
   },
   "outputs": [],
   "source": [
    "USE_GPU = True\n",
    "num_class = 100\n",
    "dtype = torch.float32 # we will be using float throughout this tutorial\n",
    "\n",
    "if USE_GPU and torch.cuda.is_available():\n",
    "    device = torch.device('cuda')\n",
    "else:\n",
    "    device = torch.device('cpu')\n",
    "\n",
    "# Constant to control how frequently we print train loss\n",
    "print_every = 100\n"
   ]
  },
  {
   "cell_type": "code",
   "execution_count": 3,
   "id": "b508af3f-e429-4f59-8f5e-a90c700dc381",
   "metadata": {
    "tags": []
   },
   "outputs": [],
   "source": [
    "def flatten(x):\n",
    "    N = x.shape[0] # read in N, C, H, W\n",
    "    return x.view(N, -1)  # \"flatten\" the C * H * W values into a single vector per image\n"
   ]
  },
  {
   "cell_type": "markdown",
   "id": "eeff5d5b-c541-4098-a4dd-c1eb13636cff",
   "metadata": {},
   "source": [
    "### Neural Network"
   ]
  },
  {
   "cell_type": "code",
   "execution_count": 4,
   "id": "52dc06f6-7fbe-4573-8d0b-15211b8cdb39",
   "metadata": {
    "tags": []
   },
   "outputs": [],
   "source": [
    "import torch.nn.functional as F  # useful stateless functions"
   ]
  },
  {
   "cell_type": "code",
   "execution_count": 73,
   "id": "e95b7753-4cd1-4887-806f-300df3e364f3",
   "metadata": {
    "tags": []
   },
   "outputs": [],
   "source": [
    "class TestNet(nn.Module): # 1D Convolution\n",
    "    def __init__(self, in_channel, num_classes):\n",
    "        super(TestNet, self).__init__()\n",
    "        \n",
    "        self.layer1 = nn.Sequential(\n",
    "            nn.Conv1d(in_channel, 16, kernel_size=3, stride = 1, padding = 1),\n",
    "            nn.BatchNorm1d(16),\n",
    "            nn.ReLU()\n",
    "        )\n",
    "        \n",
    "        self.layer2 = nn.Sequential(\n",
    "            nn.Conv1d(16, 32, kernel_size=3, stride = 1, padding = 1),\n",
    "            nn.BatchNorm1d(32),\n",
    "            nn.ReLU()\n",
    "        )\n",
    "\n",
    "        self.layer3 = nn.Sequential(\n",
    "            nn.Conv1d(32, 64, kernel_size=3, stride = 1, padding = 1),\n",
    "            nn.BatchNorm1d(64),\n",
    "            nn.ReLU()\n",
    "        )\n",
    "        \n",
    "        self.lin = nn.Sequential(\n",
    "            nn.Linear(16 * 1000, num_classes) # ? should be 64.. must look into further..\n",
    "        )\n",
    "    \n",
    "    def forward(self, x):\n",
    "        output = self.layer1(x)\n",
    "        output = self.lin(flatten(output))\n",
    "        return output"
   ]
  },
  {
   "cell_type": "markdown",
   "id": "bdf4aaac-af8c-4c33-9c8a-566d45c5b0cc",
   "metadata": {},
   "source": [
    "#### Testing"
   ]
  },
  {
   "cell_type": "code",
   "execution_count": 74,
   "id": "55b39954-56e7-4158-bbd8-b49c9d8d1222",
   "metadata": {
    "tags": []
   },
   "outputs": [],
   "source": [
    "x = torch.zeros((64, 7, 1000), dtype=dtype) # batch, channels, duration"
   ]
  },
  {
   "cell_type": "code",
   "execution_count": 75,
   "id": "3ce47a0f-49cd-4c2d-be35-0f9f436149a2",
   "metadata": {
    "tags": []
   },
   "outputs": [],
   "source": [
    "model = TestNet(in_channel=7, num_classes = 3)"
   ]
  },
  {
   "cell_type": "code",
   "execution_count": 76,
   "id": "65d2331b-e00b-4721-94f4-f92e52eb0ede",
   "metadata": {
    "tags": []
   },
   "outputs": [
    {
     "data": {
      "text/plain": [
       "torch.Size([64, 3])"
      ]
     },
     "execution_count": 76,
     "metadata": {},
     "output_type": "execute_result"
    }
   ],
   "source": [
    "model(x).shape # should be [64, 3]"
   ]
  },
  {
   "cell_type": "markdown",
   "id": "57a2c7cf-279a-4485-9f8a-2398da8d0f92",
   "metadata": {},
   "source": [
    "### Dataloading and then testing:"
   ]
  },
  {
   "cell_type": "code",
   "execution_count": 77,
   "id": "229f9fd5-ccea-48a9-a72f-0d4220ab768d",
   "metadata": {
    "tags": []
   },
   "outputs": [],
   "source": [
    "def check_accuracy(loader, model):\n",
    "    # if loader.dataset.train:\n",
    "    #     print('Checking accuracy on validation set')\n",
    "    # else:\n",
    "    #     print('Checking accuracy on test set')   \n",
    "    num_correct = 0\n",
    "    num_samples = 0\n",
    "    model.eval()  # set model to evaluation mode\n",
    "    with torch.no_grad():\n",
    "        for x, y in loader:\n",
    "            x = x.to(device=device, dtype=dtype)  # move to device, e.g. GPU\n",
    "            y = y.to(device=device, dtype=torch.long)\n",
    "            scores = model(x)\n",
    "            _, preds = scores.max(1)\n",
    "            num_correct += (preds == y).sum()\n",
    "            num_samples += preds.size(0)\n",
    "        acc = float(num_correct) / num_samples\n",
    "        print('Got %d / %d correct (%.2f)' % (num_correct, num_samples, 100 * acc))\n",
    "    return acc"
   ]
  },
  {
   "cell_type": "code",
   "execution_count": 1,
   "id": "4b76ada5-f737-4abb-a353-548ffbbf1e17",
   "metadata": {
    "tags": []
   },
   "outputs": [],
   "source": [
    "def training(model, optimizer, epochs=1):\n",
    "    \"\"\"\n",
    "    Inputs:\n",
    "    - model: A PyTorch Module giving the model to train.\n",
    "    - optimizer: An Optimizer object we will use to train the model\n",
    "    - epochs: (Optional) A Python integer giving the number of epochs to train for\n",
    "    \n",
    "    Returns: The accuracy of the model\n",
    "    \"\"\"\n",
    "    model = model.to(device=device)  # move the model parameters to CPU/GPU\n",
    "    for e in range(epochs):\n",
    "        for t, (x, y) in enumerate(loader_train):\n",
    "            model.train()  # put model to training mode\n",
    "            x = x.to(device=device, dtype=dtype)  # move to device, e.g. GPU\n",
    "            y = y.to(device=device, dtype=torch.long)\n",
    "\n",
    "            scores = model(x)\n",
    "            loss = F.cross_entropy(scores, y)\n",
    "\n",
    "            # Zero out all of the gradients for the variables which the optimizer\n",
    "            # will update.\n",
    "            optimizer.zero_grad()\n",
    "\n",
    "            # This is the backwards pass: compute the gradient of the loss with\n",
    "            # respect to each  parameter of the model.\n",
    "            loss.backward()\n",
    "\n",
    "            # Actually update the parameters of the model using the gradients\n",
    "            # computed by the backwards pass.\n",
    "            optimizer.step()\n",
    "\n",
    "            if (t + 1) % print_every == 0:\n",
    "                print('Epoch %d, Iteration %d, loss = %.4f' % (e, t + 1, loss.item()))\n",
    "                check_accuracy_part34(loader_val, model)\n",
    "                print()\n",
    "    return check_accuracy(loader_val, model)"
   ]
  },
  {
   "cell_type": "code",
   "execution_count": null,
   "id": "5e3aad8a-71f7-4de1-87ac-04809856bf1c",
   "metadata": {},
   "outputs": [],
   "source": []
  }
 ],
 "metadata": {
  "kernelspec": {
   "display_name": "Python 3 (ipykernel)",
   "language": "python",
   "name": "python3"
  },
  "language_info": {
   "codemirror_mode": {
    "name": "ipython",
    "version": 3
   },
   "file_extension": ".py",
   "mimetype": "text/x-python",
   "name": "python",
   "nbconvert_exporter": "python",
   "pygments_lexer": "ipython3",
   "version": "3.11.5"
  }
 },
 "nbformat": 4,
 "nbformat_minor": 5
}
