{
 "cells": [
  {
   "cell_type": "code",
   "execution_count": 1,
   "id": "76a19c72",
   "metadata": {
    "tags": []
   },
   "outputs": [],
   "source": [
    "import mne\n",
    "import pandas as pd\n",
    "import numpy as np"
   ]
  },
  {
   "cell_type": "markdown",
   "id": "11b0d96e-636c-445d-9a33-b9b9a53e9305",
   "metadata": {},
   "source": [
    "### Reading In the Data"
   ]
  },
  {
   "cell_type": "code",
   "execution_count": 2,
   "id": "2aca99bc",
   "metadata": {
    "tags": []
   },
   "outputs": [],
   "source": [
    "%%capture\n",
    "raw = mne.io.read_raw_gdf(r'.\\BCICIV_2a_gdf\\A01T.gdf', preload=True)"
   ]
  },
  {
   "cell_type": "code",
   "execution_count": 3,
   "id": "14737516",
   "metadata": {
    "tags": []
   },
   "outputs": [
    {
     "name": "stdout",
     "output_type": "stream",
     "text": [
      "['EEG-Fz', 'EEG-0', 'EEG-1', 'EEG-2', 'EEG-3', 'EEG-4', 'EEG-5', 'EEG-C3', 'EEG-6', 'EEG-Cz', 'EEG-7', 'EEG-C4', 'EEG-8', 'EEG-9', 'EEG-10', 'EEG-11', 'EEG-12', 'EEG-13', 'EEG-14', 'EEG-Pz', 'EEG-15', 'EEG-16', 'EOG-left', 'EOG-central', 'EOG-right']\n"
     ]
    }
   ],
   "source": [
    "channel_names = raw.info['ch_names']\n",
    "\n",
    "print(channel_names)"
   ]
  },
  {
   "cell_type": "code",
   "execution_count": 4,
   "id": "d45175b7-d35f-4714-9f01-e0f50a405ed6",
   "metadata": {
    "tags": []
   },
   "outputs": [
    {
     "data": {
      "text/plain": [
       "25"
      ]
     },
     "execution_count": 4,
     "metadata": {},
     "output_type": "execute_result"
    }
   ],
   "source": [
    "len(channel_names)"
   ]
  },
  {
   "cell_type": "code",
   "execution_count": 5,
   "id": "a1017144",
   "metadata": {
    "tags": []
   },
   "outputs": [],
   "source": [
    "channels_to_keep = ['EEG-1', 'EEG-3', 'EEG-C3', 'EEG-C4', 'EEG-14', 'EEG-Pz', 'EEG-15']     # F3, F4, C3, C4, Pz, P3, P4"
   ]
  },
  {
   "cell_type": "code",
   "execution_count": 6,
   "id": "0a60b023",
   "metadata": {
    "tags": []
   },
   "outputs": [],
   "source": [
    "ordered_event_id = {\n",
    "    '276'  : 1,  # eyes open, idling\n",
    "    '277'  : 2,\n",
    "    '768'  : 3,\n",
    "    '769'  : 4, # left/right cue\n",
    "    '770'  : 5, # left/right cue\n",
    "    '771'  : 6,\n",
    "    '772'  : 7, \n",
    "    '783'  : 8,\n",
    "    '1023' : 9,\n",
    "    '1072' : 10,\n",
    "    '32766': 11\n",
    "}"
   ]
  },
  {
   "cell_type": "markdown",
   "id": "6fe5d5a8-45c3-41aa-b0e1-82759f40539d",
   "metadata": {},
   "source": [
    "### Filtering and Cleaning the Data"
   ]
  },
  {
   "cell_type": "code",
   "execution_count": 7,
   "id": "77a5b135",
   "metadata": {
    "tags": []
   },
   "outputs": [
    {
     "name": "stdout",
     "output_type": "stream",
     "text": [
      "Filtering raw data in 1 contiguous segment\n",
      "Setting up band-pass filter from 1 - 30 Hz\n",
      "\n",
      "FIR filter parameters\n",
      "---------------------\n",
      "Designing a one-pass, zero-phase, non-causal bandpass filter:\n",
      "- Windowed time-domain design (firwin) method\n",
      "- Hamming window with 0.0194 passband ripple and 53 dB stopband attenuation\n",
      "- Lower passband edge: 1.00\n",
      "- Lower transition bandwidth: 1.00 Hz (-6 dB cutoff frequency: 0.50 Hz)\n",
      "- Upper passband edge: 30.00 Hz\n",
      "- Upper transition bandwidth: 7.50 Hz (-6 dB cutoff frequency: 33.75 Hz)\n",
      "- Filter length: 825 samples (3.300 s)\n",
      "\n"
     ]
    },
    {
     "name": "stderr",
     "output_type": "stream",
     "text": [
      "[Parallel(n_jobs=1)]: Using backend SequentialBackend with 1 concurrent workers.\n",
      "[Parallel(n_jobs=1)]: Done   1 out of   1 | elapsed:    0.0s remaining:    0.0s\n",
      "[Parallel(n_jobs=1)]: Done   2 out of   2 | elapsed:    0.0s remaining:    0.0s\n",
      "[Parallel(n_jobs=1)]: Done   3 out of   3 | elapsed:    0.0s remaining:    0.0s\n",
      "[Parallel(n_jobs=1)]: Done   4 out of   4 | elapsed:    0.0s remaining:    0.0s\n",
      "[Parallel(n_jobs=1)]: Done   7 out of   7 | elapsed:    0.1s finished\n"
     ]
    }
   ],
   "source": [
    "filtered_raw = raw.copy().pick(channels_to_keep).filter(1, 30, picks=channels_to_keep)"
   ]
  },
  {
   "cell_type": "code",
   "execution_count": 8,
   "id": "cb26a0dd",
   "metadata": {
    "tags": []
   },
   "outputs": [
    {
     "name": "stdout",
     "output_type": "stream",
     "text": [
      "Used Annotations descriptions: ['1023', '1072', '276', '277', '32766', '768', '769', '770', '771', '772']\n"
     ]
    },
    {
     "data": {
      "text/plain": [
       "array([[    0,     0,    11],\n",
       "       [    0,     0,     1],\n",
       "       [29683,     0,    11],\n",
       "       [29683,     0,     2],\n",
       "       [49955,     0,    11],\n",
       "       [49955,     0,    10],\n",
       "       [91518,     0,    11],\n",
       "       [91868,     0,     3],\n",
       "       [92368,     0,     7],\n",
       "       [93871,     0,     3]])"
      ]
     },
     "execution_count": 8,
     "metadata": {},
     "output_type": "execute_result"
    }
   ],
   "source": [
    "events, event_id = mne.events_from_annotations(filtered_raw, event_id = ordered_event_id)\n",
    "events[:10]     # format (sample_index, previous_event_value, event_id)"
   ]
  },
  {
   "cell_type": "markdown",
   "id": "5b096965-289d-4773-ad4f-10f303768156",
   "metadata": {},
   "source": [
    "### Isolating the events that we want to keep--events 1, 4, and 5"
   ]
  },
  {
   "cell_type": "code",
   "execution_count": 9,
   "id": "4358a2e6-2973-4c57-9058-c7245955129e",
   "metadata": {
    "tags": []
   },
   "outputs": [],
   "source": [
    "indices = []\n",
    "for i in range(len(events) - 1):\n",
    "    if events[i][2] == 1 or events[i][2] == 4 or events[i][2] == 5: # isolating our desired labels\n",
    "        start = events[i][0]\n",
    "        end = events[i + 1][0]\n",
    "        if end - start > 0:\n",
    "            indices.append((int(start), int(end), int(events[i][2]))) # storing duration + event labels"
   ]
  },
  {
   "cell_type": "code",
   "execution_count": 10,
   "id": "8df9fb94-136c-42b3-8059-8c090347b440",
   "metadata": {
    "tags": []
   },
   "outputs": [
    {
     "data": {
      "text/plain": [
       "[(0, 29683, 1),\n",
       " (96289, 97741, 5),\n",
       " (98241, 99749, 4),\n",
       " (100249, 101860, 4),\n",
       " (102360, 103777, 5),\n",
       " (108258, 109756, 5),\n",
       " (112162, 113557, 4),\n",
       " (114057, 115529, 4),\n",
       " (116029, 117473, 4),\n",
       " (119940, 121560, 5)]"
      ]
     },
     "execution_count": 10,
     "metadata": {},
     "output_type": "execute_result"
    }
   ],
   "source": [
    "indices[:10]"
   ]
  },
  {
   "cell_type": "markdown",
   "id": "65bb51ea-316f-448f-90e4-870f7f4ca662",
   "metadata": {},
   "source": [
    "##### Slicing these events from the original data"
   ]
  },
  {
   "cell_type": "code",
   "execution_count": 11,
   "id": "a7ae9558-eba3-4672-a7f1-ddb2a0fe1400",
   "metadata": {
    "tags": []
   },
   "outputs": [
    {
     "data": {
      "text/plain": [
       "(672528, 7)"
      ]
     },
     "execution_count": 11,
     "metadata": {},
     "output_type": "execute_result"
    }
   ],
   "source": [
    "filtered_data = filtered_raw.get_data().T\n",
    "filtered_data.shape"
   ]
  },
  {
   "cell_type": "code",
   "execution_count": 12,
   "id": "89b5e78f-39ed-4d8b-8c75-7a07f2c205a2",
   "metadata": {
    "tags": []
   },
   "outputs": [
    {
     "data": {
      "text/plain": [
       "(0, 29683, 1)"
      ]
     },
     "execution_count": 12,
     "metadata": {},
     "output_type": "execute_result"
    }
   ],
   "source": [
    "indices[0]"
   ]
  },
  {
   "cell_type": "code",
   "execution_count": 13,
   "id": "f88c9460-fce1-4459-a451-6d75c9166b61",
   "metadata": {
    "tags": []
   },
   "outputs": [
    {
     "data": {
      "text/plain": [
       "(29683, 7)"
      ]
     },
     "execution_count": 13,
     "metadata": {},
     "output_type": "execute_result"
    }
   ],
   "source": [
    "filtered_data[indices[0][0]:indices[0][1], :].shape"
   ]
  },
  {
   "cell_type": "code",
   "execution_count": 14,
   "id": "c78237d4-5b5b-477c-96dc-70b1574598cf",
   "metadata": {
    "tags": []
   },
   "outputs": [
    {
     "data": {
      "text/plain": [
       "(672528, 7)"
      ]
     },
     "execution_count": 14,
     "metadata": {},
     "output_type": "execute_result"
    }
   ],
   "source": [
    "filtered_data.shape"
   ]
  },
  {
   "cell_type": "code",
   "execution_count": 15,
   "id": "3078ba9b-d1e1-4766-ad70-43174759100c",
   "metadata": {
    "tags": []
   },
   "outputs": [],
   "source": [
    "slices = []\n",
    "for ind in indices:\n",
    "    package = (filtered_data[ind[0]:ind[1], : ], ind[2]) # (information slice, label)\n",
    "    slices.append(package)"
   ]
  },
  {
   "cell_type": "code",
   "execution_count": 20,
   "id": "72561f7d-cbfb-4342-ac99-991eeb6fbec7",
   "metadata": {
    "tags": []
   },
   "outputs": [
    {
     "data": {
      "text/plain": [
       "144"
      ]
     },
     "execution_count": 20,
     "metadata": {},
     "output_type": "execute_result"
    }
   ],
   "source": [
    "len(slices)"
   ]
  },
  {
   "cell_type": "code",
   "execution_count": 28,
   "id": "fb9ac570-dc1b-4007-a61a-23e6f30cceda",
   "metadata": {
    "tags": []
   },
   "outputs": [
    {
     "data": {
      "text/plain": [
       "1"
      ]
     },
     "execution_count": 28,
     "metadata": {},
     "output_type": "execute_result"
    }
   ],
   "source": [
    "slices[0][1]"
   ]
  },
  {
   "cell_type": "code",
   "execution_count": 27,
   "id": "b64194a1-e5fd-4e33-bbc8-4b4745248887",
   "metadata": {
    "tags": []
   },
   "outputs": [
    {
     "data": {
      "text/plain": [
       "(29683, 7)"
      ]
     },
     "execution_count": 27,
     "metadata": {},
     "output_type": "execute_result"
    }
   ],
   "source": [
    "slices[0][0].shape"
   ]
  },
  {
   "cell_type": "code",
   "execution_count": 30,
   "id": "18532aca-1bc3-4771-b451-07d116799d71",
   "metadata": {
    "tags": []
   },
   "outputs": [
    {
     "data": {
      "text/plain": [
       "5"
      ]
     },
     "execution_count": 30,
     "metadata": {},
     "output_type": "execute_result"
    }
   ],
   "source": [
    "slices[1][1]"
   ]
  },
  {
   "cell_type": "code",
   "execution_count": 32,
   "id": "319fc7f9-4e1c-475e-89c9-c9c1589b9ed3",
   "metadata": {
    "tags": []
   },
   "outputs": [
    {
     "data": {
      "text/plain": [
       "(1452, 7)"
      ]
     },
     "execution_count": 32,
     "metadata": {},
     "output_type": "execute_result"
    }
   ],
   "source": [
    "slices[1][0].shape"
   ]
  },
  {
   "cell_type": "code",
   "execution_count": 35,
   "id": "be9d289e-da69-4a94-82ef-c6b77e9773ec",
   "metadata": {
    "tags": []
   },
   "outputs": [
    {
     "data": {
      "text/plain": [
       "4"
      ]
     },
     "execution_count": 35,
     "metadata": {},
     "output_type": "execute_result"
    }
   ],
   "source": [
    "slices[2][1]"
   ]
  },
  {
   "cell_type": "code",
   "execution_count": 34,
   "id": "165e6a74-090f-4d96-817c-8a1324360177",
   "metadata": {
    "tags": []
   },
   "outputs": [
    {
     "data": {
      "text/plain": [
       "(1508, 7)"
      ]
     },
     "execution_count": 34,
     "metadata": {},
     "output_type": "execute_result"
    }
   ],
   "source": [
    "slices[2][0].shape"
   ]
  },
  {
   "cell_type": "code",
   "execution_count": 17,
   "id": "9f7606d1",
   "metadata": {},
   "outputs": [],
   "source": [
    "# del event_id['32766']"
   ]
  },
  {
   "cell_type": "code",
   "execution_count": 18,
   "id": "825a9e47",
   "metadata": {},
   "outputs": [],
   "source": [
    "# filtering the data and getting the events\n",
    "# epochs = mne.Epochs(filtered_raw, events_modified, event_id = event_id, tmin = -0.5, tmax = 1.0, baseline = (None, 0), preload=True)"
   ]
  },
  {
   "cell_type": "markdown",
   "id": "00730e88",
   "metadata": {},
   "source": [
    "note for myself\n",
    "- can try and isolate the events into blocks that we can then classify\n",
    "- need to filter the data before isolating these events\n",
    "- mne.events_from_annotations --> [time...? (not exactly the time but the number of samples preceding it I think, we can ignore this column, event id]\n",
    "\n",
    "filtering notes\n",
    "- maybe 1-30 Hz would be a good range for our data\n",
    "\n",
    "picking events notes\n",
    "- can try and plot this data to make sure what I have is properly segmented..?"
   ]
  },
  {
   "cell_type": "code",
   "execution_count": null,
   "id": "4b479cff",
   "metadata": {},
   "outputs": [],
   "source": []
  }
 ],
 "metadata": {
  "kernelspec": {
   "display_name": "Python 3 (ipykernel)",
   "language": "python",
   "name": "python3"
  },
  "language_info": {
   "codemirror_mode": {
    "name": "ipython",
    "version": 3
   },
   "file_extension": ".py",
   "mimetype": "text/x-python",
   "name": "python",
   "nbconvert_exporter": "python",
   "pygments_lexer": "ipython3",
   "version": "3.11.5"
  }
 },
 "nbformat": 4,
 "nbformat_minor": 5
}
