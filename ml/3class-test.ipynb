{
 "cells": [
  {
   "cell_type": "code",
   "execution_count": 1,
   "metadata": {},
   "outputs": [
    {
     "ename": "FileNotFoundError",
     "evalue": "[Errno 2] No such file or directory: './data/tr_EEGL_2.pkl'",
     "output_type": "error",
     "traceback": [
      "\u001b[1;31m---------------------------------------------------------------------------\u001b[0m",
      "\u001b[1;31mFileNotFoundError\u001b[0m                         Traceback (most recent call last)",
      "Cell \u001b[1;32mIn[1], line 8\u001b[0m\n\u001b[0;32m      6\u001b[0m \u001b[38;5;28;01mfrom\u001b[39;00m \u001b[38;5;21;01msklearn\u001b[39;00m\u001b[38;5;21;01m.\u001b[39;00m\u001b[38;5;21;01mmetrics\u001b[39;00m \u001b[38;5;28;01mimport\u001b[39;00m accuracy_score, f1_score, precision_score, recall_score\n\u001b[0;32m      7\u001b[0m \u001b[38;5;28;01mfrom\u001b[39;00m \u001b[38;5;21;01mutil2\u001b[39;00m \u001b[38;5;28;01mimport\u001b[39;00m A3Load\n\u001b[1;32m----> 8\u001b[0m DIR, loc, EEG_eval, EEGL_eval, EEGR_eval, EEGL_train, EEGR_train \u001b[38;5;241m=\u001b[39m A3Load()\n",
      "File \u001b[1;32mc:\\Users\\aliz0\\OneDrive\\Documents\\GitHub\\EEGTetris\\ml\\util2.py:16\u001b[0m, in \u001b[0;36mA3Load\u001b[1;34m()\u001b[0m\n\u001b[0;32m     14\u001b[0m EEGR_train \u001b[38;5;241m=\u001b[39m pickle\u001b[38;5;241m.\u001b[39mload(\u001b[38;5;28mopen\u001b[39m(DIR\u001b[38;5;241m+\u001b[39m\u001b[38;5;124m'\u001b[39m\u001b[38;5;124mdata/tr_EEGR_1.pkl\u001b[39m\u001b[38;5;124m'\u001b[39m, \u001b[38;5;124m\"\u001b[39m\u001b[38;5;124mrb\u001b[39m\u001b[38;5;124m\"\u001b[39m))[\u001b[38;5;124m'\u001b[39m\u001b[38;5;124mR\u001b[39m\u001b[38;5;124m'\u001b[39m] \u001b[38;5;66;03m# (9, 11)\u001b[39;00m\n\u001b[0;32m     15\u001b[0m \u001b[38;5;28;01mfor\u001b[39;00m i \u001b[38;5;129;01min\u001b[39;00m \u001b[38;5;28mrange\u001b[39m(\u001b[38;5;241m2\u001b[39m,\u001b[38;5;241m10\u001b[39m):\n\u001b[1;32m---> 16\u001b[0m     EEGL_train \u001b[38;5;241m=\u001b[39m np\u001b[38;5;241m.\u001b[39mvstack((EEGL_train,pickle\u001b[38;5;241m.\u001b[39mload(\u001b[38;5;28mopen\u001b[39m(DIR\u001b[38;5;241m+\u001b[39m\u001b[38;5;124m'\u001b[39m\u001b[38;5;124mdata/tr_EEGL_\u001b[39m\u001b[38;5;124m'\u001b[39m\u001b[38;5;241m+\u001b[39m\u001b[38;5;28mstr\u001b[39m(i)\u001b[38;5;241m+\u001b[39m\u001b[38;5;124m'\u001b[39m\u001b[38;5;124m.pkl\u001b[39m\u001b[38;5;124m'\u001b[39m, \u001b[38;5;124m\"\u001b[39m\u001b[38;5;124mrb\u001b[39m\u001b[38;5;124m\"\u001b[39m))[\u001b[38;5;124m'\u001b[39m\u001b[38;5;124mL\u001b[39m\u001b[38;5;124m'\u001b[39m]))\n\u001b[0;32m     17\u001b[0m     EEGR_train \u001b[38;5;241m=\u001b[39m np\u001b[38;5;241m.\u001b[39mvstack((EEGR_train,pickle\u001b[38;5;241m.\u001b[39mload(\u001b[38;5;28mopen\u001b[39m(DIR\u001b[38;5;241m+\u001b[39m\u001b[38;5;124m'\u001b[39m\u001b[38;5;124mdata/tr_EEGR_\u001b[39m\u001b[38;5;124m'\u001b[39m\u001b[38;5;241m+\u001b[39m\u001b[38;5;28mstr\u001b[39m(i)\u001b[38;5;241m+\u001b[39m\u001b[38;5;124m'\u001b[39m\u001b[38;5;124m.pkl\u001b[39m\u001b[38;5;124m'\u001b[39m, \u001b[38;5;124m\"\u001b[39m\u001b[38;5;124mrb\u001b[39m\u001b[38;5;124m\"\u001b[39m))[\u001b[38;5;124m'\u001b[39m\u001b[38;5;124mR\u001b[39m\u001b[38;5;124m'\u001b[39m]))\n\u001b[0;32m     19\u001b[0m \u001b[38;5;66;03m# Load labeled eval data and format it\u001b[39;00m\n",
      "\u001b[1;31mFileNotFoundError\u001b[0m: [Errno 2] No such file or directory: './data/tr_EEGL_2.pkl'"
     ]
    }
   ],
   "source": [
    "import numpy as np\n",
    "from mne.decoding import CSP\n",
    "import matplotlib.pyplot as plt\n",
    "from sklearn.discriminant_analysis import LinearDiscriminantAnalysis\n",
    "from sklearn.model_selection import train_test_split\n",
    "from sklearn.metrics import accuracy_score, f1_score, precision_score, recall_score\n",
    "from util2 import A3Load\n",
    "DIR, loc, EEG_eval, EEGL_eval, EEGR_eval, EEGL_train, EEGR_train = A3Load()"
   ]
  },
  {
   "cell_type": "code",
   "execution_count": null,
   "metadata": {},
   "outputs": [],
   "source": []
  },
  {
   "cell_type": "code",
   "execution_count": null,
   "metadata": {},
   "outputs": [],
   "source": [
    "# need to format the data for MNE, ugh\n",
    "I_PARTICIPANT = 6\n",
    "I_FILTER = 1\n",
    "\n",
    "N_EPOCHS = 72\n",
    "N_CHANNELS = 22\n",
    "\n",
    "l_train = []\n",
    "r_train = []\n",
    "for i in range(N_EPOCHS):\n",
    "    l_train.append(EEGL_train[I_PARTICIPANT][I_FILTER][:,:,i])\n",
    "    r_train.append(EEGR_train[I_PARTICIPANT][I_FILTER][:,:,i])\n",
    "\n",
    "X = np.array(l_train + r_train)\n",
    "X = X.astype(np.float64)\n",
    "\n",
    "y_l = np.zeros(len(l_train))\n",
    "y_r = np.ones(len(r_train))\n",
    "\n",
    "y = np.concatenate((y_l, y_r))\n",
    "\n",
    "X.shape, y.shape"
   ]
  },
  {
   "cell_type": "code",
   "execution_count": null,
   "metadata": {},
   "outputs": [],
   "source": [
    "X_train, X_test, y_train, y_test = train_test_split(X, y, test_size=0.2, random_state=42)\n",
    "\n",
    "# Initialize CSP\n",
    "csp = CSP(n_components=4, norm_trace=False)\n",
    "\n",
    "# Fit CSP\n",
    "csp.fit(X, y)"
   ]
  },
  {
   "cell_type": "code",
   "execution_count": null,
   "metadata": {},
   "outputs": [],
   "source": [
    "'''\n",
    "Right/Left classifier\n",
    "'''\n",
    "# CSP transformattion on training data\n",
    "\n",
    "X_filt_train = csp.transform(X_train)\n",
    "\n",
    "# Setting up LDA for training\n",
    "LDA = LinearDiscriminantAnalysis()\n",
    "\n",
    "LDA.fit(X_filt_train, y_train)\n",
    "\n",
    "\n",
    "# CSP transformattion on testing data\n",
    "X_filt_test = csp.transform(X_test)\n",
    "\n",
    "#predictions = LDA.predict(X_filt_test)\n",
    "#acc = LDA.score(X_filt_test, y_test)\n",
    "predictions = LDA.predict(X_filt_test)\n",
    "acc = accuracy_score(y_test, predictions)\n",
    "precision = precision_score(y_test, predictions)\n",
    "recall = recall_score(y_test, predictions)\n",
    "f1 = f1_score(y_test, predictions)\n",
    "\n",
    "print(f\"accuracy: {acc} \\n precision: {precision} \\n recall: {recall} \\n f1: {f1}\")"
   ]
  },
  {
   "cell_type": "code",
   "execution_count": null,
   "metadata": {},
   "outputs": [],
   "source": []
  }
 ],
 "metadata": {
  "kernelspec": {
   "display_name": "base",
   "language": "python",
   "name": "python3"
  },
  "language_info": {
   "codemirror_mode": {
    "name": "ipython",
    "version": 3
   },
   "file_extension": ".py",
   "mimetype": "text/x-python",
   "name": "python",
   "nbconvert_exporter": "python",
   "pygments_lexer": "ipython3",
   "version": "3.11.8"
  }
 },
 "nbformat": 4,
 "nbformat_minor": 2
}
