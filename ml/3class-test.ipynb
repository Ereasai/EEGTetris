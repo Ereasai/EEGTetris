{
 "cells": [
  {
   "cell_type": "code",
   "execution_count": 3,
   "metadata": {},
   "outputs": [],
   "source": [
    "import numpy as np\n",
    "from mne.decoding import CSP\n",
    "import matplotlib.pyplot as plt\n",
    "from sklearn.discriminant_analysis import LinearDiscriminantAnalysis\n",
    "from sklearn.model_selection import train_test_split\n",
    "from sklearn.metrics import accuracy_score, f1_score, precision_score, recall_score\n",
    "from util2 import A3Load\n",
    "DIR, loc, EEG_eval, EEGL_eval, EEGR_eval, EEGL_train, EEGR_train = A3Load()"
   ]
  },
  {
   "cell_type": "code",
   "execution_count": 20,
   "metadata": {},
   "outputs": [
    {
     "data": {
      "text/plain": [
       "((144, 22, 550), (144,))"
      ]
     },
     "execution_count": 20,
     "metadata": {},
     "output_type": "execute_result"
    }
   ],
   "source": [
    "# need to format the data for MNE, ugh\n",
    "I_PARTICIPANT = 6\n",
    "I_FILTER = 1\n",
    "\n",
    "N_EPOCHS = 72\n",
    "N_CHANNELS = 22\n",
    "\n",
    "l_train = []\n",
    "r_train = []\n",
    "for i in range(N_EPOCHS):\n",
    "    l_train.append(EEGL_train[I_PARTICIPANT][I_FILTER][:,:,i])\n",
    "    r_train.append(EEGR_train[I_PARTICIPANT][I_FILTER][:,:,i])\n",
    "\n",
    "X = np.array(l_train + r_train)\n",
    "X = X.astype(np.float64)\n",
    "\n",
    "y_l = np.zeros(len(l_train))\n",
    "y_r = np.ones(len(r_train))\n",
    "\n",
    "y = np.concatenate((y_l, y_r))\n",
    "\n",
    "X.shape, y.shape"
   ]
  },
  {
   "cell_type": "code",
   "execution_count": 17,
   "metadata": {},
   "outputs": [
    {
     "name": "stdout",
     "output_type": "stream",
     "text": [
      "Computing rank from data with rank=None\n",
      "    Using tolerance 15 (2.2e-16 eps * 22 dim * 3.1e+15  max singular value)\n",
      "    Estimated rank (mag): 22\n",
      "    MAG: rank 22 computed from 22 data channels with 0 projectors\n",
      "Reducing data rank from 22 -> 22\n",
      "Estimating covariance using EMPIRICAL\n",
      "Done.\n",
      "Computing rank from data with rank=None\n"
     ]
    },
    {
     "name": "stdout",
     "output_type": "stream",
     "text": [
      "    Using tolerance 16 (2.2e-16 eps * 22 dim * 3.2e+15  max singular value)\n",
      "    Estimated rank (mag): 22\n",
      "    MAG: rank 22 computed from 22 data channels with 0 projectors\n",
      "Reducing data rank from 22 -> 22\n",
      "Estimating covariance using EMPIRICAL\n",
      "Done.\n"
     ]
    },
    {
     "data": {
      "text/plain": [
       "CSP({'component_order': 'mutual_info',\n",
       " 'cov_est': 'concat',\n",
       " 'cov_method_params': None,\n",
       " 'log': None,\n",
       " 'n_components': 4,\n",
       " 'norm_trace': False,\n",
       " 'rank': None,\n",
       " 'reg': None,\n",
       " 'transform_into': 'average_power'})"
      ]
     },
     "execution_count": 17,
     "metadata": {},
     "output_type": "execute_result"
    }
   ],
   "source": [
    "\n",
    "X_train, X_test, y_train, y_test = train_test_split(X, y, test_size=0.2, random_state=42)\n",
    "\n",
    "# Initialize CSP\n",
    "csp = CSP(n_components=4, norm_trace=False)\n",
    "\n",
    "# Fit CSP\n",
    "csp.fit(X, y)"
   ]
  },
  {
   "cell_type": "code",
   "execution_count": 21,
   "metadata": {},
   "outputs": [
    {
     "name": "stdout",
     "output_type": "stream",
     "text": [
      "(115, 4)\n",
      "accuracy: 0.9655172413793104 \n",
      " precision: 0.9285714285714286 \n",
      " recall: 1.0 \n",
      " f1: 0.962962962962963\n"
     ]
    }
   ],
   "source": [
    "'''\n",
    "Right/Left classifier\n",
    "'''\n",
    "# CSP transformattion on training data\n",
    "\n",
    "X_filt_train = csp.transform(X_train)\n",
    "print(X_filt_train.shape)\n",
    "\n",
    "# Setting up LDA for training\n",
    "LDA = LinearDiscriminantAnalysis()\n",
    "\n",
    "LDA.fit(X_filt_train, y_train)\n",
    "\n",
    "\n",
    "# CSP transformattion on testing data\n",
    "X_filt_test = csp.transform(X_test)\n",
    "\n",
    "#predictions = LDA.predict(X_filt_test)\n",
    "#acc = LDA.score(X_filt_test, y_test)\n",
    "predictions = LDA.predict(X_filt_test)\n",
    "acc = accuracy_score(y_test, predictions)\n",
    "precision = precision_score(y_test, predictions)\n",
    "recall = recall_score(y_test, predictions)\n",
    "f1 = f1_score(y_test, predictions)\n",
    "\n",
    "print(f\"accuracy: {acc} \\n precision: {precision} \\n recall: {recall} \\n f1: {f1}\")"
   ]
  },
  {
   "cell_type": "code",
   "execution_count": null,
   "metadata": {},
   "outputs": [],
   "source": [
    "'''\n",
    "Right/Baseline\n",
    "'''"
   ]
  }
 ],
 "metadata": {
  "kernelspec": {
   "display_name": "base",
   "language": "python",
   "name": "python3"
  },
  "language_info": {
   "codemirror_mode": {
    "name": "ipython",
    "version": 3
   },
   "file_extension": ".py",
   "mimetype": "text/x-python",
   "name": "python",
   "nbconvert_exporter": "python",
   "pygments_lexer": "ipython3",
   "version": "3.11.8"
  }
 },
 "nbformat": 4,
 "nbformat_minor": 2
}
