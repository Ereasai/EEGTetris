{
 "cells": [
  {
   "cell_type": "code",
   "execution_count": 1,
   "metadata": {},
   "outputs": [],
   "source": [
    "import mne"
   ]
  },
  {
   "cell_type": "code",
   "execution_count": 2,
   "metadata": {},
   "outputs": [
    {
     "name": "stdout",
     "output_type": "stream",
     "text": [
      "Extracting EDF parameters from c:\\Users\\emmac\\OneDrive\\Documents\\GitHub\\EEGTetris\\ml\\BCICIV_2a_gdf\\A01T.gdf...\n",
      "GDF file detected\n",
      "Setting channel info structure...\n",
      "Could not determine channel type of the following channels, they will be set as EEG:\n",
      "EEG-Fz, EEG, EEG, EEG, EEG, EEG, EEG, EEG-C3, EEG, EEG-Cz, EEG, EEG-C4, EEG, EEG, EEG, EEG, EEG, EEG, EEG, EEG-Pz, EEG, EEG, EOG-left, EOG-central, EOG-right\n",
      "Creating raw.info structure...\n"
     ]
    },
    {
     "name": "stderr",
     "output_type": "stream",
     "text": [
      "c:\\Users\\emmac\\anaconda3\\Lib\\contextlib.py:144: RuntimeWarning: Channel names are not unique, found duplicates for: {'EEG'}. Applying running numbers for duplicates.\n",
      "  next(self.gen)\n"
     ]
    },
    {
     "name": "stdout",
     "output_type": "stream",
     "text": [
      "Reading 0 ... 672527  =      0.000 ...  2690.108 secs...\n"
     ]
    }
   ],
   "source": [
    "raw = mne.io.read_raw_gdf(r'.\\BCICIV_2a_gdf\\A01T.gdf', preload=True)"
   ]
  },
  {
   "cell_type": "code",
   "execution_count": 11,
   "metadata": {},
   "outputs": [
    {
     "name": "stdout",
     "output_type": "stream",
     "text": [
      "['EEG-Fz', 'EEG-0', 'EEG-1', 'EEG-2', 'EEG-3', 'EEG-4', 'EEG-5', 'EEG-C3', 'EEG-6', 'EEG-Cz', 'EEG-7', 'EEG-C4', 'EEG-8', 'EEG-9', 'EEG-10', 'EEG-11', 'EEG-12', 'EEG-13', 'EEG-14', 'EEG-Pz', 'EEG-15', 'EEG-16', 'EOG-left', 'EOG-central', 'EOG-right']\n"
     ]
    }
   ],
   "source": [
    "channel_names = raw.info['ch_names']\n",
    "\n",
    "print(channel_names)"
   ]
  },
  {
   "cell_type": "code",
   "execution_count": 14,
   "metadata": {},
   "outputs": [],
   "source": [
    "channels_to_keep = ['EEG-1', 'EEG-3', 'EEG-C3', 'EEG-C4', 'EEG-14', 'EEG-Pz', 'EEG-15']     # F3, F4, C3, C4, Pz, P3, P4\n",
    "\n",
    "raw_subset = raw.copy().pick(channels_to_keep)"
   ]
  },
  {
   "cell_type": "code",
   "execution_count": 57,
   "metadata": {},
   "outputs": [
    {
     "name": "stdout",
     "output_type": "stream",
     "text": [
      "Used Annotations descriptions: ['1023', '1072', '276', '277', '32766', '768', '769', '770', '771', '772']\n"
     ]
    },
    {
     "data": {
      "text/plain": [
       "array([[    0,     0,    11],\n",
       "       [    0,     0,     1],\n",
       "       [29683,     0,    11],\n",
       "       [29683,     0,     2],\n",
       "       [49955,     0,    11],\n",
       "       [49955,     0,    10],\n",
       "       [91518,     0,    11],\n",
       "       [91868,     0,     3],\n",
       "       [92368,     0,     7],\n",
       "       [93871,     0,     3]])"
      ]
     },
     "execution_count": 57,
     "metadata": {},
     "output_type": "execute_result"
    }
   ],
   "source": [
    "ordered_event_id = {\n",
    "    '276'  : 1,\n",
    "    '277'  : 2,\n",
    "    '768'  : 3,\n",
    "    '769'  : 4,\n",
    "    '770'  : 5,\n",
    "    '771'  : 6,\n",
    "    '772'  : 7, \n",
    "    '783'  : 8,\n",
    "    '1023' : 9,\n",
    "    '1072' : 10,\n",
    "    '32766': 11\n",
    "}\n",
    "\n",
    "events, event_id = mne.events_from_annotations(raw_subset, event_id = ordered_event_id)\n",
    "\n",
    "events[:10]     # format (sample_index, previous_event_value, event_id)"
   ]
  },
  {
   "cell_type": "code",
   "execution_count": null,
   "metadata": {},
   "outputs": [],
   "source": [
    "# order_to_class_id = {\n",
    "#     '1' : 'Idling Eyes Open',\n",
    "#     '2' : 'Idling Eyes Closed',\n",
    "#     '3' : 'Trial Start',\n",
    "#     '4' : 'Cue Left',\n",
    "#     '5' : 'Cue Right',\n",
    "#     '6' : 'Cue Foot',\n",
    "#     '7' : 'Cue Tongue', \n",
    "#     '8' : 'Cue Unknown',\n",
    "#     '9' : 'Rejected Trial',\n",
    "#     '10': 'Eye Movements',\n",
    "#     '11': 'Next Run'\n",
    "# }\n",
    "\n",
    "# og_event_id = {\n",
    "#     '276'  : 'Idling Eyes Open',\n",
    "#     '277'  : 'Idling Eyes Closed',\n",
    "#     '768'  : 'Trial Start',\n",
    "#     '769'  : 'Cue Left',\n",
    "#     '770'  : 'Cue Right',\n",
    "#     '771'  : 'Cue Foot',\n",
    "#     '772'  : 'Cue Tongue', \n",
    "#     '783'  : 'Cue Unknown',\n",
    "#     '1023' : 'Rejected Trial',\n",
    "#     '1072' : 'Eye Movements',\n",
    "#     '32766': 'Next Run'\n",
    "# }"
   ]
  },
  {
   "cell_type": "code",
   "execution_count": 59,
   "metadata": {},
   "outputs": [],
   "source": [
    "data = raw_subset.get_data()"
   ]
  },
  {
   "cell_type": "code",
   "execution_count": 58,
   "metadata": {},
   "outputs": [
    {
     "data": {
      "text/plain": [
       "(numpy.ndarray, (7, 672528))"
      ]
     },
     "execution_count": 58,
     "metadata": {},
     "output_type": "execute_result"
    }
   ],
   "source": [
    "type(data), data.shape"
   ]
  },
  {
   "cell_type": "code",
   "execution_count": null,
   "metadata": {},
   "outputs": [],
   "source": []
  }
 ],
 "metadata": {
  "kernelspec": {
   "display_name": "myenv",
   "language": "python",
   "name": "myenv"
  },
  "language_info": {
   "codemirror_mode": {
    "name": "ipython",
    "version": 3
   },
   "file_extension": ".py",
   "mimetype": "text/x-python",
   "name": "python",
   "nbconvert_exporter": "python",
   "pygments_lexer": "ipython3",
   "version": "3.11.5"
  }
 },
 "nbformat": 4,
 "nbformat_minor": 2
}
